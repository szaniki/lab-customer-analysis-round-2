{
 "cells": [
  {
   "cell_type": "markdown",
   "id": "49d0c013",
   "metadata": {},
   "source": [
    "# Round2 "
   ]
  },
  {
   "cell_type": "markdown",
   "id": "380e0df0",
   "metadata": {},
   "source": [
    "### Dealing with the data"
   ]
  },
  {
   "cell_type": "markdown",
   "id": "974d2890",
   "metadata": {},
   "source": [
    "## Get data"
   ]
  },
  {
   "cell_type": "code",
   "execution_count": null,
   "id": "9e725487",
   "metadata": {},
   "outputs": [],
   "source": [
    "import pandas as pd\n",
    "import numpy as np\n",
    "\n",
    "dataset = pd.read_csv('/Users/szabonikolett/Desktop/Ironhack-Labs/lab-customer-analysis-round-2/files_for_lab/csv_files/marketing_customer_analysis.csv') \n",
    "pd.set_option('display.max_columns', None)  # listing all the columns\n",
    "\n",
    "dataset.head()"
   ]
  },
  {
   "cell_type": "markdown",
   "id": "558ef43a",
   "metadata": {},
   "source": [
    "## Show the dataframe shape"
   ]
  },
  {
   "cell_type": "code",
   "execution_count": null,
   "id": "fcc1762f",
   "metadata": {},
   "outputs": [],
   "source": [
    "dataset.shape"
   ]
  },
  {
   "cell_type": "markdown",
   "id": "88a52750",
   "metadata": {},
   "source": [
    "## Standardize header names"
   ]
  },
  {
   "cell_type": "code",
   "execution_count": null,
   "id": "04b8b737",
   "metadata": {},
   "outputs": [],
   "source": [
    "cols = []\n",
    "for column in range(len(dataset.columns)):\n",
    "    cols.append(dataset.columns[column].lower().replace(' ', '_'))  # >> new best friend, replacing in column names space with _\n",
    "dataset.columns = cols\n",
    "\n",
    "dataset.head()"
   ]
  },
  {
   "cell_type": "markdown",
   "id": "93eb22a2",
   "metadata": {},
   "source": [
    "## Numerical and categorical columns"
   ]
  },
  {
   "cell_type": "code",
   "execution_count": null,
   "id": "033dcb0e",
   "metadata": {},
   "outputs": [],
   "source": [
    "dataset.dtypes\n",
    "\n",
    "dataset.select_dtypes(np.number).columns"
   ]
  },
  {
   "cell_type": "code",
   "execution_count": null,
   "id": "3a290c7d",
   "metadata": {},
   "outputs": [],
   "source": [
    "dataset.select_dtypes(object).columns"
   ]
  },
  {
   "cell_type": "markdown",
   "id": "a34eec70",
   "metadata": {},
   "source": [
    "## Check and deal with NaN values"
   ]
  },
  {
   "cell_type": "code",
   "execution_count": null,
   "id": "31dec5a1",
   "metadata": {},
   "outputs": [],
   "source": [
    "# Check the occurancy of NaN values / column\n",
    "\n",
    "dataset.isna().sum() # number of nan values\n",
    "round(dataset.isna().sum()/len(dataset),4)*100  # % of nan values"
   ]
  },
  {
   "cell_type": "code",
   "execution_count": null,
   "id": "6c877521",
   "metadata": {},
   "outputs": [],
   "source": [
    "# removing vehicle tpye as half of it is missing, makes no sense to work with that much missing values\n",
    "# unnamed:_0  also removed, it's identical with row index\n",
    "\n",
    "dataset = dataset.drop(['vehicle_type', 'unnamed:_0'], axis=1)\n",
    "dataset"
   ]
  },
  {
   "cell_type": "code",
   "execution_count": null,
   "id": "451e5870",
   "metadata": {},
   "outputs": [],
   "source": [
    "# dropping duplicates \n",
    "\n",
    "dataset = dataset.drop_duplicates()"
   ]
  },
  {
   "cell_type": "markdown",
   "id": "688b88bf",
   "metadata": {},
   "source": [
    "## Datetime format "
   ]
  },
  {
   "cell_type": "code",
   "execution_count": null,
   "id": "7f9eab0a",
   "metadata": {},
   "outputs": [],
   "source": [
    "# Examples of working with datetime format:\n",
    "\n",
    "#file['date_time'] = pd.to_datetime(file['date_time'], errors='coerce')\n",
    "#file.head()"
   ]
  },
  {
   "cell_type": "code",
   "execution_count": null,
   "id": "c8e25d02",
   "metadata": {},
   "outputs": [],
   "source": [
    "# dataset['year'] = pd.DatetimeIndex(dataset['Effective_To_Date']).year # no need for this\n",
    "# dataset['year'] = pd.DatetimeIndex(dataset['effective_to_date']).year\n",
    "\n",
    "#dataset['effective_to_date']=pd.to_datetime(dataset['effective_to_date'])\n",
    "dataset['month'] = pd.DatetimeIndex(dataset['effective_to_date']).month # added month column with 1,2 for January, February\n",
    "\n",
    "dataset"
   ]
  },
  {
   "cell_type": "code",
   "execution_count": null,
   "id": "997c480e",
   "metadata": {},
   "outputs": [],
   "source": [
    "dataset.shape"
   ]
  },
  {
   "cell_type": "code",
   "execution_count": null,
   "id": "a3fecba9",
   "metadata": {},
   "outputs": [],
   "source": [
    "# fixing nan values \n",
    "dataset['state'] = dataset['state'].fillna('other')"
   ]
  },
  {
   "cell_type": "code",
   "execution_count": null,
   "id": "82611a3d",
   "metadata": {},
   "outputs": [],
   "source": [
    "dataset['response'].value_counts(dropna=False)\n"
   ]
  },
  {
   "cell_type": "code",
   "execution_count": null,
   "id": "792e06a3",
   "metadata": {},
   "outputs": [],
   "source": [
    "# filling nans values with no as the number of nos are almost 5 times higher as yes, so more likely the missing values are no as well\n",
    "dataset['response'] = dataset['response'].fillna('No')"
   ]
  },
  {
   "cell_type": "code",
   "execution_count": null,
   "id": "60a3803e",
   "metadata": {},
   "outputs": [],
   "source": [
    "dataset.isna().sum()"
   ]
  },
  {
   "cell_type": "code",
   "execution_count": null,
   "id": "be9d838a",
   "metadata": {},
   "outputs": [],
   "source": [
    "# replacing nans with 0 in months_since_last_claim and number_of_open_complaints  \n",
    "dataset['number_of_open_complaints']=dataset['number_of_open_complaints'].fillna('0.0').astype(float)\n",
    "dataset['months_since_last_claim']=dataset['months_since_last_claim'].fillna('0.0').astype(float)\n",
    "dataset.select_dtypes(object)"
   ]
  },
  {
   "cell_type": "code",
   "execution_count": null,
   "id": "824c9ba2",
   "metadata": {},
   "outputs": [],
   "source": []
  },
  {
   "cell_type": "code",
   "execution_count": null,
   "id": "b2e00d2c",
   "metadata": {},
   "outputs": [],
   "source": [
    "dataset.isna().sum()"
   ]
  },
  {
   "cell_type": "code",
   "execution_count": null,
   "id": "abfe7625",
   "metadata": {},
   "outputs": [],
   "source": [
    "dataset['vehicle_class'].value_counts(dropna=False)"
   ]
  },
  {
   "cell_type": "code",
   "execution_count": null,
   "id": "fd4db26f",
   "metadata": {},
   "outputs": [],
   "source": [
    "# replacing nan valeus with four door car as the most common value in the set \n",
    "dataset['vehicle_class'] = dataset['vehicle_class'].fillna('Four-Door Car')"
   ]
  },
  {
   "cell_type": "code",
   "execution_count": null,
   "id": "cf917a42",
   "metadata": {},
   "outputs": [],
   "source": [
    "dataset['vehicle_size'].value_counts(dropna=False)"
   ]
  },
  {
   "cell_type": "code",
   "execution_count": null,
   "id": "2edec9b3",
   "metadata": {},
   "outputs": [],
   "source": [
    "# following the above said and replaceing nans with the most common value\n",
    "dataset['vehicle_size'] = dataset['vehicle_size'].fillna('Medsize')"
   ]
  },
  {
   "cell_type": "markdown",
   "id": "78cbc228",
   "metadata": {},
   "source": [
    "# Round3 \n",
    "EDA (Exploratory Data Analysis)"
   ]
  },
  {
   "cell_type": "markdown",
   "id": "b1ffad1f",
   "metadata": {},
   "source": [
    "## Show DataFrame info"
   ]
  },
  {
   "cell_type": "code",
   "execution_count": null,
   "id": "b2683b0b",
   "metadata": {},
   "outputs": [],
   "source": [
    "import pandas as pd\n",
    "import numpy as np\n",
    "import matplotlib.pyplot as plt\n",
    "import matplotlib\n",
    "\n",
    "from collections import Counter\n",
    "\n",
    "dataset \n",
    "pd.set_option('display.max_columns', None)  \n",
    "\n",
    "dataset.head()"
   ]
  },
  {
   "cell_type": "code",
   "execution_count": null,
   "id": "42f7048c",
   "metadata": {},
   "outputs": [],
   "source": [
    "dataset.shape"
   ]
  },
  {
   "cell_type": "markdown",
   "id": "f70e2fa1",
   "metadata": {},
   "source": [
    "## Describe DataFrame"
   ]
  },
  {
   "cell_type": "code",
   "execution_count": null,
   "id": "36244518",
   "metadata": {},
   "outputs": [],
   "source": [
    "dataset"
   ]
  },
  {
   "cell_type": "markdown",
   "id": "c9d889b8",
   "metadata": {},
   "source": [
    "### Show a plot of the total number of responses"
   ]
  },
  {
   "cell_type": "code",
   "execution_count": null,
   "id": "a975e2e3",
   "metadata": {
    "scrolled": true
   },
   "outputs": [],
   "source": [
    "import seaborn as sns\n",
    "\n",
    "sns.countplot(x = dataset['response'])\n",
    "plt.ylabel('Total number of Response')\n",
    "\n",
    "plt.show()"
   ]
  },
  {
   "cell_type": "markdown",
   "id": "6b75d21b",
   "metadata": {},
   "source": [
    "## Show a plot of the response rate by the sales channel "
   ]
  },
  {
   "cell_type": "code",
   "execution_count": null,
   "id": "47431896",
   "metadata": {},
   "outputs": [],
   "source": [
    "plt.figure(figsize=(7,4))\n",
    "sns.countplot(('response'), hue='sales_channel', data=dataset) # hue would bring some colors\n",
    "plt.ylabel('Response by Sales Channel')\n",
    "plt.show()"
   ]
  },
  {
   "cell_type": "code",
   "execution_count": null,
   "id": "11e1312b",
   "metadata": {},
   "outputs": [],
   "source": [
    "plt.figure(figsize=(8,6))\n",
    "sns.boxplot(y='total_claim_amount' , x='response', data=dataset)\n",
    "plt.ylabel('Response by Total Claim Amount')\n",
    "plt.show()"
   ]
  },
  {
   "cell_type": "code",
   "execution_count": null,
   "id": "22cc1f56",
   "metadata": {
    "scrolled": true
   },
   "outputs": [],
   "source": [
    "plt.figure(figsize=(5,3))\n",
    "sns.boxplot(y='income', x='response', data=dataset)\n",
    "plt.ylabel('Response by Inncome')\n",
    "plt.show()"
   ]
  },
  {
   "cell_type": "code",
   "execution_count": null,
   "id": "eceeb059",
   "metadata": {},
   "outputs": [],
   "source": []
  },
  {
   "cell_type": "markdown",
   "id": "070196f1",
   "metadata": {},
   "source": [
    "# Round 4"
   ]
  },
  {
   "cell_type": "markdown",
   "id": "53cae9bc",
   "metadata": {},
   "source": [
    "## Continuous distributions, linear regression, linear regression"
   ]
  },
  {
   "cell_type": "markdown",
   "id": "6c041810",
   "metadata": {},
   "source": [
    "### Check the data types of the columns. Get the numeric data into dataframe called numerical and categorical columns in a dataframe called categoricals. "
   ]
  },
  {
   "cell_type": "code",
   "execution_count": null,
   "id": "912021d8",
   "metadata": {},
   "outputs": [],
   "source": [
    "from sklearn.preprocessing import MinMaxScaler    \n",
    "from sklearn.preprocessing import StandardScaler\n",
    "\n",
    "import matplotlib.pyplot as plt\n",
    "import seaborn as sns \n",
    "%matplotlib inline"
   ]
  },
  {
   "cell_type": "markdown",
   "id": "7e3ac1f5",
   "metadata": {},
   "source": [
    "\n"
   ]
  },
  {
   "cell_type": "code",
   "execution_count": null,
   "id": "60184681",
   "metadata": {},
   "outputs": [],
   "source": [
    "numerical = dataset.select_dtypes(include = np.number) \n",
    "pd.set_option('display.max_columns', None)  \n",
    "\n",
    "numerical"
   ]
  },
  {
   "cell_type": "code",
   "execution_count": null,
   "id": "8373bc7c",
   "metadata": {},
   "outputs": [],
   "source": [
    "categorical = dataset.select_dtypes(include = object)\n",
    "pd.set_option('display.max_columns', None)  \n",
    "categorical"
   ]
  },
  {
   "cell_type": "code",
   "execution_count": null,
   "id": "1ca0f1a0",
   "metadata": {},
   "outputs": [],
   "source": [
    "dataset = dataset.drop(['customer', 'effective_to_date'], axis=1) "
   ]
  },
  {
   "cell_type": "code",
   "execution_count": null,
   "id": "4e7624e0",
   "metadata": {},
   "outputs": [],
   "source": [
    "#when I drop a colum from my numerical db, I will also need to drop that from my origina data"
   ]
  },
  {
   "cell_type": "markdown",
   "id": "dfb08e2c",
   "metadata": {},
   "source": [
    "## Check the normality of the numerical variables visually"
   ]
  },
  {
   "cell_type": "markdown",
   "id": "7100a82d",
   "metadata": {},
   "source": [
    "### Use seaborn library to construct distribution plots for the numerical variables"
   ]
  },
  {
   "cell_type": "code",
   "execution_count": null,
   "id": "12023d5d",
   "metadata": {},
   "outputs": [],
   "source": [
    "for col in numerical.columns:\n",
    "    sns.displot(numerical[col], kde=True) # kde=True >> putting the line in \n",
    "    \n",
    "plt.show()"
   ]
  },
  {
   "cell_type": "markdown",
   "id": "6e2715f0",
   "metadata": {},
   "source": [
    "### Use Matplotlib to construct histograms"
   ]
  },
  {
   "cell_type": "code",
   "execution_count": null,
   "id": "97c051f2",
   "metadata": {},
   "outputs": [],
   "source": [
    "#fig, ax = plt.subplots()\n",
    "for col in numerical.columns:\n",
    "    numerical[col].hist()\n",
    "    plt.show()"
   ]
  },
  {
   "cell_type": "markdown",
   "id": "2db33249",
   "metadata": {},
   "source": [
    "### Check the multicollinearity between the features. Please note that we will use the column total_claim_amount later as the target variable\n"
   ]
  },
  {
   "cell_type": "code",
   "execution_count": null,
   "id": "32a487c8",
   "metadata": {},
   "outputs": [],
   "source": [
    "correlations = round(numerical.corr(),2)\n",
    "correlations"
   ]
  },
  {
   "cell_type": "code",
   "execution_count": null,
   "id": "35fbfee7",
   "metadata": {},
   "outputs": [],
   "source": [
    "sns.heatmap(correlations, annot=True) # printing 2 decimals with annot=True \n",
    "plt.show"
   ]
  },
  {
   "cell_type": "markdown",
   "id": "83d8c298",
   "metadata": {},
   "source": [
    "We have a negativ high correlation between income and total_claim_amount, meaning if one of them increases the other one would decrease. \n",
    "The correlation between monthly_premium_auto and total_claim_amount is (positiv) strong, if one increases so would the other too. "
   ]
  },
  {
   "cell_type": "markdown",
   "id": "892bc72a",
   "metadata": {},
   "source": [
    "# Round 5"
   ]
  },
  {
   "cell_type": "markdown",
   "id": "df58a207",
   "metadata": {},
   "source": [
    "## X-y split.\n",
    "## Normalizing (numerical)."
   ]
  },
  {
   "cell_type": "code",
   "execution_count": null,
   "id": "412a656b",
   "metadata": {},
   "outputs": [],
   "source": [
    "y=dataset['total_claim_amount'] # setting target on y axis\n",
    "X=dataset.drop(['total_claim_amount'], axis=1) # »» setting features on X"
   ]
  },
  {
   "cell_type": "code",
   "execution_count": null,
   "id": "d036f166",
   "metadata": {},
   "outputs": [],
   "source": [
    "X_num = X.select_dtypes(np.number) \n",
    "X_cat = X.select_dtypes(object)\n",
    "\n",
    "print (X_num.shape, X_cat.shape)  "
   ]
  },
  {
   "cell_type": "code",
   "execution_count": null,
   "id": "7f5a7173",
   "metadata": {},
   "outputs": [],
   "source": [
    "X_cat"
   ]
  },
  {
   "cell_type": "code",
   "execution_count": null,
   "id": "0878336c",
   "metadata": {},
   "outputs": [],
   "source": [
    "X_num.describe().T # checking the range of the values "
   ]
  },
  {
   "cell_type": "code",
   "execution_count": null,
   "id": "d4ba8775",
   "metadata": {},
   "outputs": [],
   "source": [
    "# normalizing all the values between 0-1 \n",
    "\n",
    "transformer = MinMaxScaler().fit(X_num) \n",
    "X_normalized = transformer.transform(X_num)\n",
    "print(X_normalized.shape)\n",
    "X_normalized # if I run it, it's still an array\n",
    "X_num_scale = pd.DataFrame(X_normalized, columns=X_num.columns) # turning into a dataframe to concat with onehot X numeric\n",
    "X_num_scale.head()"
   ]
  },
  {
   "cell_type": "code",
   "execution_count": null,
   "id": "181dda20",
   "metadata": {},
   "outputs": [],
   "source": [
    "# normalizing by making data distributed with mean=0 and std=1\n",
    "transformer = StandardScaler().fit(X_num)\n",
    "X_standardized = transformer.transform(X_num)\n",
    "print(X_standardized.shape)\n",
    "X_num_standard = pd.DataFrame(X_standardized, columns=X_num.columns)\n",
    "X_num_standard"
   ]
  },
  {
   "cell_type": "markdown",
   "id": "c3f14392",
   "metadata": {},
   "source": [
    "# Round 6"
   ]
  },
  {
   "cell_type": "markdown",
   "id": "963db238",
   "metadata": {},
   "source": [
    "One Hot/Label Encoding (categorical).\n",
    "Concat DataFrames\n",
    "Linear Regression\n",
    "\n",
    "Train-test split.\n",
    "Apply linear regression.\n",
    "Model Validation\n"
   ]
  },
  {
   "cell_type": "code",
   "execution_count": null,
   "id": "ad5a1793",
   "metadata": {},
   "outputs": [],
   "source": [
    "#encoder.categories_"
   ]
  },
  {
   "cell_type": "code",
   "execution_count": null,
   "id": "f7b389f9",
   "metadata": {},
   "outputs": [],
   "source": [
    "from sklearn.preprocessing import OneHotEncoder\n",
    "\n",
    "encoder = OneHotEncoder(drop='first').fit(X_cat) \n",
    "cols=encoder.get_feature_names(input_features=X_cat.columns) \n",
    "X_cat_encode = pd.DataFrame(encoder.transform(X_cat).toarray(),columns=cols) \n",
    "\n",
    "X_cat_encode"
   ]
  },
  {
   "cell_type": "markdown",
   "id": "cfa15b20",
   "metadata": {},
   "source": [
    "### Contact DataFrames, Linear Regression"
   ]
  },
  {
   "cell_type": "code",
   "execution_count": null,
   "id": "ab312a3a",
   "metadata": {},
   "outputs": [],
   "source": [
    "X=pd.concat([X_num_scale, X_cat_encode], axis=1) \n",
    "X.describe()"
   ]
  },
  {
   "cell_type": "markdown",
   "id": "2b172dfb",
   "metadata": {},
   "source": [
    "## Train-test split"
   ]
  },
  {
   "cell_type": "code",
   "execution_count": null,
   "id": "859d5752",
   "metadata": {},
   "outputs": [],
   "source": [
    "from sklearn.model_selection import train_test_split\n",
    "X_train, X_test, y_train, y_test = train_test_split(X, y, test_size=0.2, random_state=42)"
   ]
  },
  {
   "cell_type": "code",
   "execution_count": null,
   "id": "bd7f7514",
   "metadata": {},
   "outputs": [],
   "source": [
    "print(X_train.shape) \n",
    "print(X_test.shape)\n",
    "print(y_train.shape)\n",
    "print(y_test.shape) "
   ]
  },
  {
   "cell_type": "code",
   "execution_count": null,
   "id": "be356507",
   "metadata": {},
   "outputs": [],
   "source": [
    "from sklearn import linear_model\n",
    "from sklearn.metrics import mean_squared_error\n",
    "from sklearn.metrics import mean_absolute_error, r2_score\n",
    "\n",
    "from sklearn import linear_model"
   ]
  },
  {
   "cell_type": "code",
   "execution_count": null,
   "id": "3d57cd76",
   "metadata": {},
   "outputs": [],
   "source": [
    "lm = linear_model.LinearRegression()\n",
    "lm.fit(X_train, y_train)\n",
    "print(lm.score(X_train,y_train))\n",
    "y_pred = lm.predict(X_train)\n",
    "print(mean_squared_error(y_pred,y_train))"
   ]
  },
  {
   "cell_type": "code",
   "execution_count": null,
   "id": "6cb5930f",
   "metadata": {},
   "outputs": [],
   "source": [
    "print(y_pred)"
   ]
  },
  {
   "cell_type": "code",
   "execution_count": null,
   "id": "7ce8b86b",
   "metadata": {},
   "outputs": [],
   "source": [
    "print(y_train)  # training and testing the random selectin of 20%"
   ]
  },
  {
   "cell_type": "markdown",
   "id": "a3461a8c",
   "metadata": {},
   "source": [
    "### Description:\n",
    "R2.\n",
    "MSE.\n",
    "RMSE.\n",
    "MAE."
   ]
  },
  {
   "cell_type": "code",
   "execution_count": null,
   "id": "e9c6fe93",
   "metadata": {},
   "outputs": [],
   "source": [
    "from sklearn.metrics import mean_squared_error \n",
    "mse=mean_squared_error(y_test,predictions_test)\n",
    "mse"
   ]
  },
  {
   "cell_type": "code",
   "execution_count": null,
   "id": "9dc89705",
   "metadata": {},
   "outputs": [],
   "source": [
    "rmse = np.sqrt(mean_squared_error(y_test,predictions_test))\n",
    "rmse"
   ]
  },
  {
   "cell_type": "code",
   "execution_count": null,
   "id": "ba428da9",
   "metadata": {},
   "outputs": [],
   "source": [
    "y_test.mean()"
   ]
  },
  {
   "cell_type": "code",
   "execution_count": null,
   "id": "83d6a83a",
   "metadata": {},
   "outputs": [],
   "source": [
    "from sklearn.metrics import mean_absolute_error, r2_score\n",
    "\n",
    "mae = mean_absolute_error(y_test, predictions_test)\n",
    "print(mae)"
   ]
  },
  {
   "cell_type": "code",
   "execution_count": null,
   "id": "2ccf9d05",
   "metadata": {},
   "outputs": [],
   "source": [
    "# test model is working, result is within the range when prediction is considered fine\n",
    "r2 = r2_score(y_test, predictions_test) \n",
    "r2"
   ]
  },
  {
   "cell_type": "markdown",
   "id": "4111d48d",
   "metadata": {},
   "source": [
    "## Round 7"
   ]
  },
  {
   "cell_type": "code",
   "execution_count": 1,
   "id": "caef6e0c",
   "metadata": {},
   "outputs": [],
   "source": [
    "import pandas as pd\n",
    "import numpy as np\n",
    "import matplotlib.pyplot as plt\n",
    "import seaborn as sns\n",
    "%matplotlib inline\n",
    "\n",
    "\n",
    "from collections import Counter\n",
    "\n",
    "from sklearn.preprocessing import MinMaxScaler\n",
    "from sklearn.preprocessing import StandardScaler\n",
    "\n",
    "from sklearn.preprocessing import OneHotEncoder\n",
    "\n",
    "from sklearn import linear_model\n",
    "from sklearn.metrics import mean_squared_error, r2_score"
   ]
  },
  {
   "cell_type": "code",
   "execution_count": 2,
   "id": "27f054cb",
   "metadata": {},
   "outputs": [],
   "source": [
    "dataset2 = pd.read_csv('/Users/szabonikolett/Desktop/Ironhack-Labs/lab-customer-analysis-round-2/files_for_lab/csv_files/marketing_customer_analysis.csv') "
   ]
  },
  {
   "cell_type": "code",
   "execution_count": 3,
   "id": "bc6f2e48",
   "metadata": {},
   "outputs": [],
   "source": [
    "def clean_data(df):\n",
    "    cols = []\n",
    "    for column in range(len(df.columns)):\n",
    "        cols.append(df.columns[column].lower().replace(' ', '_'))  \n",
    "    df.columns = cols\n",
    "        \n",
    "    df = df.drop(['vehicle_type', 'unnamed:_0'], axis=1)\n",
    "    \n",
    "    df['month'] = pd.DatetimeIndex(df['effective_to_date']).month\n",
    "    \n",
    "    df['state'] = df['state'].fillna('other')\n",
    "    \n",
    "    df['response'] = df['response'].fillna('No')\n",
    "    \n",
    "    df['number_of_open_complaints']=df['number_of_open_complaints'].fillna('0.0').astype(float)\n",
    "    df['months_since_last_claim']=df['months_since_last_claim'].fillna('0.0').astype(float)\n",
    "    \n",
    "    df['vehicle_class'] = df['vehicle_class'].fillna('Four-Door Car')\n",
    "    \n",
    "    df['vehicle_size'] = df['vehicle_size'].fillna('Medsize')\n",
    "    \n",
    "    return df\n",
    "  "
   ]
  },
  {
   "cell_type": "code",
   "execution_count": 4,
   "id": "53e6ec1c",
   "metadata": {},
   "outputs": [],
   "source": [
    "dataset10 = clean_data(dataset2) # saving the function's result in a new variable\n"
   ]
  },
  {
   "cell_type": "code",
   "execution_count": 5,
   "id": "881e71bf",
   "metadata": {},
   "outputs": [],
   "source": [
    "def scalingsteps(A):\n",
    "    X = A.drop(['total_claim_amount'],axis=1) # every feature minus the target\n",
    "    y = A['total_claim_amount'] # setting label\n",
    "    \n",
    "    X=X.drop(columns=['effective_to_date','month', 'customer'],axis=1) # dropping unneeded columns\n",
    "    \n",
    "    X_num = X.select_dtypes(np.number) \n",
    "    X_cat = X.select_dtypes(object)\n",
    "    \n",
    "    # Normalizing data: make data range from 0 - 1, instead of from min to max\n",
    "    \n",
    "    transformer = MinMaxScaler().fit(X_num)\n",
    "    x_normalized = transformer.transform(X_num)\n",
    "    print(x_normalized.shape) #was dataframe but turned into array\n",
    "    x_normalized\n",
    "    x_normalized = pd.DataFrame(x_normalized, columns=X_num.columns) # converting back to dataframe\n",
    "    \n",
    "    encoder = OneHotEncoder().fit(X_cat)\n",
    "    cols=encoder.get_feature_names_out(input_features=X_cat.columns)\n",
    "    encoded = pd.DataFrame(encoder.transform(X_cat).toarray(), columns=cols)\n",
    "    encoded.head()\n",
    "    \n",
    "    X = pd.concat([x_normalized, encoded], axis=1)  \n",
    "    X = X.reset_index(drop=True)\n",
    "    display(x_normalized.corr())\n",
    "    \n",
    "    return X, y\n"
   ]
  },
  {
   "cell_type": "code",
   "execution_count": 6,
   "id": "8fa95045",
   "metadata": {},
   "outputs": [
    {
     "name": "stdout",
     "output_type": "stream",
     "text": [
      "(10910, 7)\n"
     ]
    },
    {
     "data": {
      "text/html": [
       "<div>\n",
       "<style scoped>\n",
       "    .dataframe tbody tr th:only-of-type {\n",
       "        vertical-align: middle;\n",
       "    }\n",
       "\n",
       "    .dataframe tbody tr th {\n",
       "        vertical-align: top;\n",
       "    }\n",
       "\n",
       "    .dataframe thead th {\n",
       "        text-align: right;\n",
       "    }\n",
       "</style>\n",
       "<table border=\"1\" class=\"dataframe\">\n",
       "  <thead>\n",
       "    <tr style=\"text-align: right;\">\n",
       "      <th></th>\n",
       "      <th>customer_lifetime_value</th>\n",
       "      <th>income</th>\n",
       "      <th>monthly_premium_auto</th>\n",
       "      <th>months_since_last_claim</th>\n",
       "      <th>months_since_policy_inception</th>\n",
       "      <th>number_of_open_complaints</th>\n",
       "      <th>number_of_policies</th>\n",
       "    </tr>\n",
       "  </thead>\n",
       "  <tbody>\n",
       "    <tr>\n",
       "      <th>customer_lifetime_value</th>\n",
       "      <td>1.000000</td>\n",
       "      <td>0.028306</td>\n",
       "      <td>0.403069</td>\n",
       "      <td>0.017189</td>\n",
       "      <td>0.016960</td>\n",
       "      <td>-0.030616</td>\n",
       "      <td>0.016024</td>\n",
       "    </tr>\n",
       "    <tr>\n",
       "      <th>income</th>\n",
       "      <td>0.028306</td>\n",
       "      <td>1.000000</td>\n",
       "      <td>-0.009788</td>\n",
       "      <td>-0.016671</td>\n",
       "      <td>-0.005903</td>\n",
       "      <td>0.008425</td>\n",
       "      <td>-0.009960</td>\n",
       "    </tr>\n",
       "    <tr>\n",
       "      <th>monthly_premium_auto</th>\n",
       "      <td>0.403069</td>\n",
       "      <td>-0.009788</td>\n",
       "      <td>1.000000</td>\n",
       "      <td>0.007845</td>\n",
       "      <td>0.018953</td>\n",
       "      <td>-0.010059</td>\n",
       "      <td>-0.020505</td>\n",
       "    </tr>\n",
       "    <tr>\n",
       "      <th>months_since_last_claim</th>\n",
       "      <td>0.017189</td>\n",
       "      <td>-0.016671</td>\n",
       "      <td>0.007845</td>\n",
       "      <td>1.000000</td>\n",
       "      <td>-0.036081</td>\n",
       "      <td>0.036455</td>\n",
       "      <td>-0.000649</td>\n",
       "    </tr>\n",
       "    <tr>\n",
       "      <th>months_since_policy_inception</th>\n",
       "      <td>0.016960</td>\n",
       "      <td>-0.005903</td>\n",
       "      <td>0.018953</td>\n",
       "      <td>-0.036081</td>\n",
       "      <td>1.000000</td>\n",
       "      <td>0.004165</td>\n",
       "      <td>-0.009123</td>\n",
       "    </tr>\n",
       "    <tr>\n",
       "      <th>number_of_open_complaints</th>\n",
       "      <td>-0.030616</td>\n",
       "      <td>0.008425</td>\n",
       "      <td>-0.010059</td>\n",
       "      <td>0.036455</td>\n",
       "      <td>0.004165</td>\n",
       "      <td>1.000000</td>\n",
       "      <td>0.001681</td>\n",
       "    </tr>\n",
       "    <tr>\n",
       "      <th>number_of_policies</th>\n",
       "      <td>0.016024</td>\n",
       "      <td>-0.009960</td>\n",
       "      <td>-0.020505</td>\n",
       "      <td>-0.000649</td>\n",
       "      <td>-0.009123</td>\n",
       "      <td>0.001681</td>\n",
       "      <td>1.000000</td>\n",
       "    </tr>\n",
       "  </tbody>\n",
       "</table>\n",
       "</div>"
      ],
      "text/plain": [
       "                               customer_lifetime_value    income  \\\n",
       "customer_lifetime_value                       1.000000  0.028306   \n",
       "income                                        0.028306  1.000000   \n",
       "monthly_premium_auto                          0.403069 -0.009788   \n",
       "months_since_last_claim                       0.017189 -0.016671   \n",
       "months_since_policy_inception                 0.016960 -0.005903   \n",
       "number_of_open_complaints                    -0.030616  0.008425   \n",
       "number_of_policies                            0.016024 -0.009960   \n",
       "\n",
       "                               monthly_premium_auto  months_since_last_claim  \\\n",
       "customer_lifetime_value                    0.403069                 0.017189   \n",
       "income                                    -0.009788                -0.016671   \n",
       "monthly_premium_auto                       1.000000                 0.007845   \n",
       "months_since_last_claim                    0.007845                 1.000000   \n",
       "months_since_policy_inception              0.018953                -0.036081   \n",
       "number_of_open_complaints                 -0.010059                 0.036455   \n",
       "number_of_policies                        -0.020505                -0.000649   \n",
       "\n",
       "                               months_since_policy_inception  \\\n",
       "customer_lifetime_value                             0.016960   \n",
       "income                                             -0.005903   \n",
       "monthly_premium_auto                                0.018953   \n",
       "months_since_last_claim                            -0.036081   \n",
       "months_since_policy_inception                       1.000000   \n",
       "number_of_open_complaints                           0.004165   \n",
       "number_of_policies                                 -0.009123   \n",
       "\n",
       "                               number_of_open_complaints  number_of_policies  \n",
       "customer_lifetime_value                        -0.030616            0.016024  \n",
       "income                                          0.008425           -0.009960  \n",
       "monthly_premium_auto                           -0.010059           -0.020505  \n",
       "months_since_last_claim                         0.036455           -0.000649  \n",
       "months_since_policy_inception                   0.004165           -0.009123  \n",
       "number_of_open_complaints                       1.000000            0.001681  \n",
       "number_of_policies                              0.001681            1.000000  "
      ]
     },
     "metadata": {},
     "output_type": "display_data"
    }
   ],
   "source": [
    "X, y = scalingsteps(dataset10)"
   ]
  },
  {
   "cell_type": "code",
   "execution_count": null,
   "id": "326312da",
   "metadata": {},
   "outputs": [],
   "source": []
  }
 ],
 "metadata": {
  "kernelspec": {
   "display_name": "Python 3 (ipykernel)",
   "language": "python",
   "name": "python3"
  },
  "language_info": {
   "codemirror_mode": {
    "name": "ipython",
    "version": 3
   },
   "file_extension": ".py",
   "mimetype": "text/x-python",
   "name": "python",
   "nbconvert_exporter": "python",
   "pygments_lexer": "ipython3",
   "version": "3.9.12"
  }
 },
 "nbformat": 4,
 "nbformat_minor": 5
}
